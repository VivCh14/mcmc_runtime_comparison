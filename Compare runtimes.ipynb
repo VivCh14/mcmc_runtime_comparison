{
 "cells": [
  {
   "cell_type": "code",
   "execution_count": null,
   "id": "3cd13ede",
   "metadata": {},
   "outputs": [],
   "source": [
    "import numpy as np\n",
    "import pandas as pd\n",
    "import matplotlib.pyplot as plt\n",
    "%matplotlib inline\n",
    "from glob import glob\n",
    "import seaborn as sns\n",
    "import arviz as az\n",
    "from os.path import join, split, splitext\n",
    "from toolz import pipe\n",
    "from fetch_data import create_arrays"
   ]
  },
  {
   "cell_type": "code",
   "execution_count": null,
   "id": "6d7c0c66",
   "metadata": {},
   "outputs": [],
   "source": [
    "# Directory containing model runs -- change as needed\n",
    "run_dir = '/media/martin/External Drive/projects/pymc_vs_stan/rerun_01_10_2022/fits/'\n",
    "\n",
    "# Directory to save plots in -- change as needed\n",
    "plot_dir = '/home/martin/projects/pymc_vs_stan_revamp/plots/'\n",
    "\n",
    "# Find all runtime files:\n",
    "all_runtimes = glob(join(run_dir, '*/*.txt'))"
   ]
  },
  {
   "cell_type": "code",
   "execution_count": null,
   "id": "3955e110",
   "metadata": {},
   "outputs": [],
   "source": [
    "len(all_runtimes)"
   ]
  },
  {
   "cell_type": "code",
   "execution_count": null,
   "id": "7c957869",
   "metadata": {},
   "outputs": [],
   "source": [
    "# Extract runtimes from text files \n",
    "runtimes = [float(list(open(x))[0].strip()) for x in all_runtimes]"
   ]
  },
  {
   "cell_type": "code",
   "execution_count": null,
   "id": "89dcc6e0",
   "metadata": {},
   "outputs": [],
   "source": [
    "# Helper function to extract some more info from the filenames\n",
    "def extract_info(filenames):\n",
    "    \n",
    "    approach_names = [x.split('/')[-2] for x in filenames]\n",
    "    filenames = [split(splitext(x)[0])[-1] for x in filenames]\n",
    "    years = [int(x.split('_')[-1]) for x in filenames]\n",
    "    \n",
    "    return {'year': years, 'method': approach_names}"
   ]
  },
  {
   "cell_type": "code",
   "execution_count": null,
   "id": "64b1156d",
   "metadata": {},
   "outputs": [],
   "source": [
    "info = extract_info(all_runtimes)\n",
    "info['runtime'] = runtimes"
   ]
  },
  {
   "cell_type": "code",
   "execution_count": null,
   "id": "c23d1e35",
   "metadata": {},
   "outputs": [],
   "source": [
    "results = pd.DataFrame(info)"
   ]
  },
  {
   "cell_type": "code",
   "execution_count": null,
   "id": "05dbad49",
   "metadata": {},
   "outputs": [],
   "source": [
    "results.sort_values('year').head()"
   ]
  },
  {
   "cell_type": "code",
   "execution_count": null,
   "id": "98ca537c",
   "metadata": {},
   "outputs": [],
   "source": [
    "# Fetch the number of data points for each year from the dataset\n",
    "of_interest = results['year'].unique()\n",
    "\n",
    "data = {x: create_arrays(x)['winner_ids'].shape[0] for x in of_interest}"
   ]
  },
  {
   "cell_type": "code",
   "execution_count": null,
   "id": "b47d51b5",
   "metadata": {},
   "outputs": [],
   "source": [
    "results['n_matches'] = [data[row.year] for row in results.itertuples()]"
   ]
  },
  {
   "cell_type": "code",
   "execution_count": null,
   "id": "1b4d6baf",
   "metadata": {},
   "outputs": [],
   "source": [
    "total_matches = results['n_matches'].max()"
   ]
  },
  {
   "cell_type": "code",
   "execution_count": null,
   "id": "f763943e",
   "metadata": {},
   "outputs": [],
   "source": [
    "results['log_matches'] = np.log10(results['n_matches'])"
   ]
  },
  {
   "cell_type": "code",
   "execution_count": null,
   "id": "6f97872e",
   "metadata": {},
   "outputs": [],
   "source": [
    "f, ax = plt.subplots(1, 1)\n",
    "\n",
    "of_interest = ['pymc', 'cmdstanpy', 'pymc_jax_gpu_vectorized', 'pymc_jax_gpu_parallel',\n",
    "               'pymc_blackjax_gpu_vectorized', 'pymc_blackjax_cpu_parallel']\n",
    "\n",
    "colours = sns.color_palette(palette=None, n_colors=len(of_interest))\n",
    "\n",
    "colour_lookup = {x: y for x, y in zip(of_interest, colours)}\n",
    "\n",
    "rel_results = results[results['method'].isin(of_interest)]\n",
    "\n",
    "for cur_method in rel_results['method'].unique():\n",
    "    \n",
    "    cur_data = rel_results[rel_results['method'] == cur_method].sort_values('n_matches')\n",
    "    \n",
    "    linestyle = '--' if 'gpu' in cur_method else None\n",
    "    \n",
    "    ax.plot(cur_data['n_matches'], cur_data['runtime'] / 60, label=cur_method, marker='o', linestyle=linestyle,\n",
    "            color=colour_lookup[cur_method])\n",
    "    \n",
    "ax.set_yscale('log')\n",
    "ax.set_xscale('log')\n",
    "\n",
    "ax.set_xlabel('Number of matches (log scale)')\n",
    "ax.set_ylabel('Runtime in minutes (log scale)')\n",
    "\n",
    "ax.grid(alpha=0.5, linestyle='--')\n",
    "\n",
    "ax.legend()\n",
    "\n",
    "f.set_size_inches(8, 5)\n",
    "f.tight_layout()\n",
    "\n",
    "#plt.savefig(join(plot_dir, 'walltime_plot.png'), dpi=300)"
   ]
  },
  {
   "cell_type": "code",
   "execution_count": null,
   "id": "d3a068fb",
   "metadata": {},
   "outputs": [],
   "source": [
    "f, ax = plt.subplots(1, 1)\n",
    "\n",
    "to_plot = rel_results[rel_results['n_matches'] == rel_results['n_matches'].max()].copy()\n",
    "\n",
    "to_plot['runtime (minutes)'] = to_plot['runtime'] / 60\n",
    "\n",
    "to_plot = to_plot.sort_values('runtime (minutes)')\n",
    "\n",
    "colours_to_plot = [colour_lookup[x] for x in to_plot['method']]\n",
    "\n",
    "sns.barplot(x=to_plot['runtime (minutes)'], y=to_plot['method'], ax=ax, palette=colours_to_plot)\n",
    "ax.grid(alpha=0.5)\n",
    "\n",
    "ax.set_title(f'Runtime when using all matches in dataset ({total_matches} matches)')\n",
    "\n",
    "f.set_size_inches(8, 4)\n",
    "f.tight_layout()\n",
    "\n",
    "#plt.savefig(join(plot_dir, 'walltime_full.png'), dpi=300)"
   ]
  },
  {
   "cell_type": "code",
   "execution_count": null,
   "id": "8e62ed38",
   "metadata": {},
   "outputs": [],
   "source": [
    "to_plot = to_plot.set_index('method', drop=False)\n",
    "\n",
    "to_plot['runtime'] / to_plot['runtime'].min()"
   ]
  },
  {
   "cell_type": "code",
   "execution_count": null,
   "id": "ae20198f",
   "metadata": {},
   "outputs": [],
   "source": [
    "to_plot['runtime'] / 60"
   ]
  },
  {
   "cell_type": "code",
   "execution_count": null,
   "id": "6e5c1c83",
   "metadata": {},
   "outputs": [],
   "source": [
    "# Compute ESS / second"
   ]
  },
  {
   "cell_type": "code",
   "execution_count": null,
   "id": "1aa35a9f",
   "metadata": {},
   "outputs": [],
   "source": [
    "all_draws = glob(join(run_dir, '*/*.netcdf'))"
   ]
  },
  {
   "cell_type": "code",
   "execution_count": null,
   "id": "db9d1d00",
   "metadata": {},
   "outputs": [],
   "source": [
    "def compute_min_ess(arviz_draws):\n",
    "    \n",
    "    min_ess = az.ess(arviz_draws).min()\n",
    "    \n",
    "    return float(min_ess.to_array().min().values)"
   ]
  },
  {
   "cell_type": "code",
   "execution_count": null,
   "id": "0b15f1ab",
   "metadata": {},
   "outputs": [],
   "source": [
    "min_ess = list(pipe(all_draws,\n",
    "               # Load\n",
    "               lambda x: map(az.from_netcdf, x),\n",
    "               # Compute minimum ESS\n",
    "               lambda x: map(compute_min_ess, x)\n",
    "              ))"
   ]
  },
  {
   "cell_type": "code",
   "execution_count": null,
   "id": "1e3501fe",
   "metadata": {},
   "outputs": [],
   "source": [
    "draw_info = extract_info(all_draws)"
   ]
  },
  {
   "cell_type": "code",
   "execution_count": null,
   "id": "f4b3b74f",
   "metadata": {},
   "outputs": [],
   "source": [
    "ess_info = pd.DataFrame({'min_ess': min_ess, 'method': draw_info['method'], 'year': draw_info['year']})"
   ]
  },
  {
   "cell_type": "code",
   "execution_count": null,
   "id": "c2a06603",
   "metadata": {},
   "outputs": [],
   "source": [
    "with_runtime = ess_info.merge(results)\n",
    "\n",
    "with_runtime['ESS / second'] = with_runtime['min_ess'] / with_runtime['runtime']"
   ]
  },
  {
   "cell_type": "code",
   "execution_count": null,
   "id": "1be69db0",
   "metadata": {},
   "outputs": [],
   "source": [
    "with_runtime.head()"
   ]
  },
  {
   "cell_type": "code",
   "execution_count": null,
   "id": "2efef930",
   "metadata": {},
   "outputs": [],
   "source": [
    "f, ax = plt.subplots(1, 1)\n",
    "\n",
    "rel_results = with_runtime[with_runtime['method'].isin(of_interest)]\n",
    "\n",
    "for cur_method in rel_results['method'].unique():\n",
    "    \n",
    "    cur_data = rel_results[rel_results['method'] == cur_method].sort_values('n_matches')\n",
    "    \n",
    "    linestyle = '--' if 'gpu' in cur_method else None\n",
    "    \n",
    "    ax.plot(cur_data['n_matches'], cur_data['ESS / second'], label=cur_method, marker='o', linestyle=linestyle,\n",
    "            color=colour_lookup[cur_method])\n",
    "    \n",
    "ax.set_yscale('log')\n",
    "ax.set_xscale('log')\n",
    "\n",
    "ax.set_xlabel('Number of matches (log scale)')\n",
    "ax.set_ylabel('Minimum ESS / second (log scale)')\n",
    "\n",
    "ax.grid(alpha=0.5, linestyle='--', which='both')\n",
    "\n",
    "ax.legend(loc='lower left')\n",
    "\n",
    "f.set_size_inches(8, 5)\n",
    "f.tight_layout()\n",
    "\n",
    "plt.savefig(join(plot_dir, 'ess_values.png'), dpi=300)"
   ]
  },
  {
   "cell_type": "code",
   "execution_count": null,
   "id": "e5e6fe05",
   "metadata": {},
   "outputs": [],
   "source": [
    "f, ax = plt.subplots(1, 1)\n",
    "\n",
    "to_plot = rel_results[rel_results['year'] == 1968].sort_values('ESS / second')\n",
    "\n",
    "colours_to_plot = [colour_lookup[x] for x in to_plot['method']]\n",
    "\n",
    "sns.barplot(x=to_plot['ESS / second'], y=to_plot['method'], ax=ax, palette=colours_to_plot)\n",
    "\n",
    "ax.grid(alpha=0.5)\n",
    "\n",
    "ax.set_title(f'ESS / second when using all matches in dataset ({total_matches} matches)')\n",
    "\n",
    "f.set_size_inches(8, 4)\n",
    "f.tight_layout()\n",
    "\n",
    "plt.savefig(join(plot_dir, 'ess_per_second_full.png'), dpi=300)"
   ]
  },
  {
   "cell_type": "code",
   "execution_count": null,
   "id": "96d57e7c",
   "metadata": {},
   "outputs": [],
   "source": [
    "rel = to_plot.set_index('method', drop=False)\n",
    "\n",
    "rel['ESS / second'].max() / rel['ESS / second']"
   ]
  },
  {
   "cell_type": "code",
   "execution_count": null,
   "id": "6e09dcc8",
   "metadata": {},
   "outputs": [],
   "source": [
    "11.3 / 3.9"
   ]
  },
  {
   "cell_type": "code",
   "execution_count": null,
   "id": "9e3bd3a2",
   "metadata": {},
   "outputs": [],
   "source": [
    "# Check estimates agree\n",
    "\n",
    "stan_res = az.from_netcdf(join(run_dir, 'cmdstanpy/samples_1968.netcdf'))"
   ]
  },
  {
   "cell_type": "code",
   "execution_count": null,
   "id": "21b728d2",
   "metadata": {},
   "outputs": [],
   "source": [
    "list(stan_res.keys())"
   ]
  },
  {
   "cell_type": "code",
   "execution_count": null,
   "id": "5e0d7e0b",
   "metadata": {},
   "outputs": [],
   "source": [
    "p_skills = stan_res.posterior['player_skills']\n",
    "\n",
    "player_means_stan = p_skills.values.mean(axis=(0, 1))\n",
    "player_sds_stan = p_skills.values.std(axis=(0, 1))"
   ]
  },
  {
   "cell_type": "code",
   "execution_count": null,
   "id": "7b7c4bd8",
   "metadata": {},
   "outputs": [],
   "source": [
    "pymc3_res = az.from_netcdf(join(run_dir, 'pymc/samples_1968.netcdf'))"
   ]
  },
  {
   "cell_type": "code",
   "execution_count": null,
   "id": "1da323ad",
   "metadata": {},
   "outputs": [],
   "source": [
    "p_skills_pymc3 = pymc3_res.posterior['player_skills'].mean(dim=('chain', 'draw'))\n",
    "p_skills_pymc3_sd = pymc3_res.posterior['player_skills'].std(dim=('chain', 'draw'))"
   ]
  },
  {
   "cell_type": "code",
   "execution_count": null,
   "id": "87c4eb57",
   "metadata": {},
   "outputs": [],
   "source": [
    "# Load data for 1968 to get player names\n",
    "cur_data = create_arrays(1968)\n",
    "\n",
    "jax_res = az.from_netcdf(join(run_dir, 'pymc_jax_gpu_vectorized/samples_1968.netcdf'))"
   ]
  },
  {
   "cell_type": "code",
   "execution_count": null,
   "id": "c883ac85",
   "metadata": {},
   "outputs": [],
   "source": [
    "cur_data['player_encoder']"
   ]
  },
  {
   "cell_type": "code",
   "execution_count": null,
   "id": "677faf61",
   "metadata": {},
   "outputs": [],
   "source": [
    "p_skills_jax = jax_res.posterior['player_skills'].mean(dim=('chain', 'draw'))\n",
    "p_skills_jax_sd = jax_res.posterior['player_skills'].std(dim=('chain', 'draw'))"
   ]
  },
  {
   "cell_type": "code",
   "execution_count": null,
   "id": "0dd72657",
   "metadata": {},
   "outputs": [],
   "source": [
    "f, ax = plt.subplots(1, 3)\n",
    "\n",
    "ax[0].scatter(p_skills_jax.values.reshape(-1), p_skills_pymc3.values.reshape(-1))\n",
    "ax[0].plot([p_skills_jax.min(), p_skills_jax.max()], [p_skills_jax.min(), p_skills_jax.max()])\n",
    "\n",
    "ax[1].scatter(p_skills_jax.values.reshape(-1), player_means_stan.reshape(-1))\n",
    "ax[1].plot([p_skills_jax.min(), p_skills_jax.max()], [p_skills_jax.min(), p_skills_jax.max()])\n",
    "\n",
    "ax[2].scatter(p_skills_pymc3.values.reshape(-1), player_means_stan.reshape(-1))\n",
    "ax[2].plot([p_skills_pymc3.min(), p_skills_pymc3.max()], [p_skills_pymc3.min(), p_skills_pymc3.max()])\n",
    "\n",
    "ax[0].set_xlabel('JAX GPU means')\n",
    "ax[0].set_ylabel('PyMC means')\n",
    "\n",
    "ax[1].set_xlabel('JAX GPU means')\n",
    "ax[1].set_ylabel('Stan means')\n",
    "\n",
    "ax[2].set_xlabel('PyMC means')\n",
    "ax[2].set_ylabel('Stan means')\n",
    "\n",
    "f.set_size_inches(12, 4)\n",
    "f.tight_layout()\n",
    "\n",
    "plt.savefig(join(plot_dir, 'mean_comparison.png'), dpi=300)"
   ]
  },
  {
   "cell_type": "code",
   "execution_count": null,
   "id": "b27cfdcc",
   "metadata": {},
   "outputs": [],
   "source": [
    "f, ax = plt.subplots(1, 3)\n",
    "\n",
    "ax[0].scatter(p_skills_jax_sd.values.reshape(-1), p_skills_pymc3_sd.values.reshape(-1))\n",
    "ax[0].plot([p_skills_jax_sd.min(), p_skills_jax_sd.max()], [p_skills_jax_sd.min(), p_skills_jax_sd.max()])\n",
    "\n",
    "ax[1].scatter(p_skills_jax_sd.values.reshape(-1), player_sds_stan.reshape(-1))\n",
    "ax[1].plot([p_skills_jax_sd.min(), p_skills_jax_sd.max()], [p_skills_jax_sd.min(), p_skills_jax_sd.max()])\n",
    "\n",
    "ax[2].scatter(p_skills_pymc3_sd.values.reshape(-1), player_sds_stan.reshape(-1))\n",
    "ax[2].plot([p_skills_pymc3_sd.min(), p_skills_pymc3_sd.max()], [p_skills_pymc3_sd.min(), p_skills_pymc3_sd.max()])\n",
    "\n",
    "ax[0].set_xlabel('JAX GPU sds')\n",
    "ax[0].set_ylabel('PyMC sds')\n",
    "\n",
    "ax[1].set_xlabel('JAX GPU sds')\n",
    "ax[1].set_ylabel('Stan sds')\n",
    "\n",
    "ax[2].set_xlabel('PyMC sds')\n",
    "ax[2].set_ylabel('Stan sds')\n",
    "\n",
    "f.set_size_inches(12, 4)\n",
    "f.tight_layout()\n",
    "\n",
    "plt.savefig(join(plot_dir, 'sd_comparison.png'), dpi=300)"
   ]
  },
  {
   "cell_type": "code",
   "execution_count": null,
   "id": "c380c906",
   "metadata": {},
   "outputs": [],
   "source": [
    "p_skills.shape"
   ]
  },
  {
   "cell_type": "code",
   "execution_count": null,
   "id": "396408fe",
   "metadata": {},
   "outputs": [],
   "source": [
    "p_skills_jax.shape"
   ]
  },
  {
   "cell_type": "code",
   "execution_count": null,
   "id": "3e982630",
   "metadata": {},
   "outputs": [],
   "source": [
    "print(pd.DataFrame({'mean_skill': p_skills_jax, 'skill_sd': p_skills_jax_sd}, index=cur_data['player_encoder'].classes_).sort_values('mean_skill', ascending=False).head(20).round(2).to_markdown())"
   ]
  },
  {
   "cell_type": "code",
   "execution_count": null,
   "id": "080183a7",
   "metadata": {},
   "outputs": [],
   "source": []
  }
 ],
 "metadata": {
  "kernelspec": {
   "display_name": "Python 3 (ipykernel)",
   "language": "python",
   "name": "python3"
  },
  "language_info": {
   "codemirror_mode": {
    "name": "ipython",
    "version": 3
   },
   "file_extension": ".py",
   "mimetype": "text/x-python",
   "name": "python",
   "nbconvert_exporter": "python",
   "pygments_lexer": "ipython3",
   "version": "3.10.6"
  }
 },
 "nbformat": 4,
 "nbformat_minor": 5
}
